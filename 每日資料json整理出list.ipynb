{
 "cells": [
  {
   "cell_type": "code",
   "execution_count": 103,
   "metadata": {},
   "outputs": [],
   "source": [
    "import pickle\n",
    "import requests\n",
    "from datetime import date,timedelta\n",
    "from io import StringIO\n",
    "import pandas as pd\n",
    "import json\n",
    "from bs4 import BeautifulSoup\n",
    "from tqdm.notebook import tqdm\n",
    "from datetime import datetime\n",
    "import os, json\n",
    "from pandas import Timestamp"
   ]
  },
  {
   "cell_type": "code",
   "execution_count": 107,
   "metadata": {},
   "outputs": [],
   "source": [
    "def find(arr , name):\n",
    "    for idx,item in enumerate(arr):\n",
    "        #print(x['name'])\n",
    "        if item[\"name\"] == name:\n",
    "            return idx\n",
    "    return False\n",
    "\n",
    "\n",
    "result=[]\n",
    "for root, dirs, files in os.walk(\"./stock_all_backup/\"):\n",
    "    for file in files:\n",
    "        if file.endswith(\".json\"):\n",
    "#             print(os.path.join(root, file))\n",
    "            dirname = root.split('/')[-1]\n",
    "            date = file.split('_')[0]\n",
    "            stock_id = file.split('_')[1].split('.')[0]\n",
    "            if(find(result , stock_id)):\n",
    "                index = find(result , stock_id)\n",
    "                result[index]['dates'].append({'date':date, 'file':dirname+'/'+file})\n",
    "            else:\n",
    "                result.append({\n",
    "                    'name':stock_id,\n",
    "                    'dates':[{\n",
    "                        'date':date,\n",
    "                        'file':dirname+'/'+file\n",
    "                    }]\n",
    "                })\n",
    "                \n",
    "\n",
    "json_object = json.dumps(result, indent=2)\n",
    "with open('data_list_2022.json', 'w') as json_file:\n",
    "    json_file.write(json_object)\n",
    "# result[0]['areas'].append({'ddd':'ddds'})\n",
    "# result"
   ]
  },
  {
   "cell_type": "code",
   "execution_count": 5,
   "metadata": {},
   "outputs": [
    {
     "data": {
      "text/plain": [
       "Index(['1101', '1102', '1103', '1104', '1108', '1109', '1110', '1201', '1203',\n",
       "       '1210',\n",
       "       ...\n",
       "       '8936', '8937', '8938', '8941', '8942', '9949', '9950', '9951', '9960',\n",
       "       '9962'],\n",
       "      dtype='object', name='stock_id', length=1774)"
      ]
     },
     "execution_count": 5,
     "metadata": {},
     "output_type": "execute_result"
    }
   ],
   "source": []
  },
  {
   "cell_type": "code",
   "execution_count": 27,
   "metadata": {},
   "outputs": [
    {
     "name": "stdout",
     "output_type": "stream",
     "text": [
      "true\n"
     ]
    }
   ],
   "source": [
    "filepath = './json/data_1102.json'\n",
    "if os.path.exists(filepath):\n",
    "    print('true')"
   ]
  },
  {
   "cell_type": "code",
   "execution_count": 11,
   "metadata": {},
   "outputs": [],
   "source": [
    "high=high.fillna(0)\n",
    "low=low.fillna(0)\n",
    "start=start.fillna(0)\n",
    "end=end.fillna(0)\n",
    "volumn=volumn.fillna(0)\n",
    "three=three.fillna(0)\n",
    "margin=margin.fillna(0)"
   ]
  },
  {
   "cell_type": "code",
   "execution_count": 69,
   "metadata": {},
   "outputs": [
    {
     "data": {
      "text/plain": [
       "MultiIndex([('1101', '2003-02-12'),\n",
       "            ('1101', '2003-02-13'),\n",
       "            ('1101', '2003-02-14'),\n",
       "            ('1101', '2003-02-17'),\n",
       "            ('1101', '2003-02-18'),\n",
       "            ('1101', '2003-02-19'),\n",
       "            ('1101', '2003-02-20'),\n",
       "            ('1101', '2003-02-21'),\n",
       "            ('1101', '2003-02-24'),\n",
       "            ('1101', '2003-02-25'),\n",
       "            ...\n",
       "            ('9962', '2022-10-18'),\n",
       "            ('9962', '2022-10-19'),\n",
       "            ('9962', '2022-10-20'),\n",
       "            ('9962', '2022-10-21'),\n",
       "            ('9962', '2022-10-24'),\n",
       "            ('9962', '2022-10-25'),\n",
       "            ('9962', '2022-10-26'),\n",
       "            ('9962', '2022-10-27'),\n",
       "            ('9962', '2022-10-28'),\n",
       "            ('9962', '2022-10-31')],\n",
       "           names=['stock_id', 'date'], length=5901028)"
      ]
     },
     "execution_count": 69,
     "metadata": {},
     "output_type": "execute_result"
    }
   ],
   "source": [
    "margin.index"
   ]
  },
  {
   "cell_type": "code",
   "execution_count": 12,
   "metadata": {},
   "outputs": [
    {
     "data": {
      "text/plain": [
       "True"
      ]
     },
     "execution_count": 12,
     "metadata": {},
     "output_type": "execute_result"
    }
   ],
   "source": [
    "('2330','2022-11-03') in three.index"
   ]
  },
  {
   "cell_type": "code",
   "execution_count": 60,
   "metadata": {},
   "outputs": [
    {
     "data": {
      "text/html": [
       "<div>\n",
       "<style scoped>\n",
       "    .dataframe tbody tr th:only-of-type {\n",
       "        vertical-align: middle;\n",
       "    }\n",
       "\n",
       "    .dataframe tbody tr th {\n",
       "        vertical-align: top;\n",
       "    }\n",
       "\n",
       "    .dataframe thead th {\n",
       "        text-align: right;\n",
       "    }\n",
       "</style>\n",
       "<table border=\"1\" class=\"dataframe\">\n",
       "  <thead>\n",
       "    <tr style=\"text-align: right;\">\n",
       "      <th></th>\n",
       "      <th>融資(張)</th>\n",
       "      <th>融資差額(張)</th>\n",
       "      <th>融資使用率</th>\n",
       "      <th>融券(張)</th>\n",
       "      <th>融券差額(張)</th>\n",
       "      <th>券資比</th>\n",
       "    </tr>\n",
       "    <tr>\n",
       "      <th>date</th>\n",
       "      <th></th>\n",
       "      <th></th>\n",
       "      <th></th>\n",
       "      <th></th>\n",
       "      <th></th>\n",
       "      <th></th>\n",
       "    </tr>\n",
       "  </thead>\n",
       "  <tbody>\n",
       "    <tr>\n",
       "      <th>2003-02-12</th>\n",
       "      <td>24401.0</td>\n",
       "      <td>-807.0</td>\n",
       "      <td>28.23</td>\n",
       "      <td>836.0</td>\n",
       "      <td>183.0</td>\n",
       "      <td>3.43</td>\n",
       "    </tr>\n",
       "    <tr>\n",
       "      <th>2003-02-13</th>\n",
       "      <td>21997.0</td>\n",
       "      <td>-2404.0</td>\n",
       "      <td>25.45</td>\n",
       "      <td>643.0</td>\n",
       "      <td>-193.0</td>\n",
       "      <td>2.92</td>\n",
       "    </tr>\n",
       "    <tr>\n",
       "      <th>2003-02-14</th>\n",
       "      <td>22366.0</td>\n",
       "      <td>369.0</td>\n",
       "      <td>25.87</td>\n",
       "      <td>532.0</td>\n",
       "      <td>-111.0</td>\n",
       "      <td>2.38</td>\n",
       "    </tr>\n",
       "    <tr>\n",
       "      <th>2003-02-17</th>\n",
       "      <td>22040.0</td>\n",
       "      <td>-326.0</td>\n",
       "      <td>25.50</td>\n",
       "      <td>542.0</td>\n",
       "      <td>10.0</td>\n",
       "      <td>2.46</td>\n",
       "    </tr>\n",
       "    <tr>\n",
       "      <th>2003-02-18</th>\n",
       "      <td>21653.0</td>\n",
       "      <td>-387.0</td>\n",
       "      <td>25.05</td>\n",
       "      <td>451.0</td>\n",
       "      <td>-91.0</td>\n",
       "      <td>2.08</td>\n",
       "    </tr>\n",
       "    <tr>\n",
       "      <th>...</th>\n",
       "      <td>...</td>\n",
       "      <td>...</td>\n",
       "      <td>...</td>\n",
       "      <td>...</td>\n",
       "      <td>...</td>\n",
       "      <td>...</td>\n",
       "    </tr>\n",
       "    <tr>\n",
       "      <th>2022-10-25</th>\n",
       "      <td>801.0</td>\n",
       "      <td>0.0</td>\n",
       "      <td>0.00</td>\n",
       "      <td>0.0</td>\n",
       "      <td>0.0</td>\n",
       "      <td>0.00</td>\n",
       "    </tr>\n",
       "    <tr>\n",
       "      <th>2022-10-26</th>\n",
       "      <td>799.0</td>\n",
       "      <td>-2.0</td>\n",
       "      <td>0.00</td>\n",
       "      <td>0.0</td>\n",
       "      <td>0.0</td>\n",
       "      <td>0.00</td>\n",
       "    </tr>\n",
       "    <tr>\n",
       "      <th>2022-10-27</th>\n",
       "      <td>799.0</td>\n",
       "      <td>0.0</td>\n",
       "      <td>0.00</td>\n",
       "      <td>0.0</td>\n",
       "      <td>0.0</td>\n",
       "      <td>0.00</td>\n",
       "    </tr>\n",
       "    <tr>\n",
       "      <th>2022-10-28</th>\n",
       "      <td>796.0</td>\n",
       "      <td>-3.0</td>\n",
       "      <td>0.00</td>\n",
       "      <td>0.0</td>\n",
       "      <td>0.0</td>\n",
       "      <td>0.00</td>\n",
       "    </tr>\n",
       "    <tr>\n",
       "      <th>2022-10-31</th>\n",
       "      <td>796.0</td>\n",
       "      <td>0.0</td>\n",
       "      <td>0.00</td>\n",
       "      <td>0.0</td>\n",
       "      <td>0.0</td>\n",
       "      <td>0.00</td>\n",
       "    </tr>\n",
       "  </tbody>\n",
       "</table>\n",
       "<p>4874 rows × 6 columns</p>\n",
       "</div>"
      ],
      "text/plain": [
       "              融資(張)  融資差額(張)  融資使用率  融券(張)  融券差額(張)   券資比\n",
       "date                                                     \n",
       "2003-02-12  24401.0   -807.0  28.23  836.0    183.0  3.43\n",
       "2003-02-13  21997.0  -2404.0  25.45  643.0   -193.0  2.92\n",
       "2003-02-14  22366.0    369.0  25.87  532.0   -111.0  2.38\n",
       "2003-02-17  22040.0   -326.0  25.50  542.0     10.0  2.46\n",
       "2003-02-18  21653.0   -387.0  25.05  451.0    -91.0  2.08\n",
       "...             ...      ...    ...    ...      ...   ...\n",
       "2022-10-25    801.0      0.0   0.00    0.0      0.0  0.00\n",
       "2022-10-26    799.0     -2.0   0.00    0.0      0.0  0.00\n",
       "2022-10-27    799.0      0.0   0.00    0.0      0.0  0.00\n",
       "2022-10-28    796.0     -3.0   0.00    0.0      0.0  0.00\n",
       "2022-10-31    796.0      0.0   0.00    0.0      0.0  0.00\n",
       "\n",
       "[4874 rows x 6 columns]"
      ]
     },
     "execution_count": 60,
     "metadata": {},
     "output_type": "execute_result"
    }
   ],
   "source": [
    "margin.loc['1459']#.loc['2022-']['融券差額(張)'],"
   ]
  },
  {
   "cell_type": "code",
   "execution_count": 49,
   "metadata": {},
   "outputs": [
    {
     "data": {
      "application/vnd.jupyter.widget-view+json": {
       "model_id": "771792ec8b054a8b80213f3d508dd7f7",
       "version_major": 2,
       "version_minor": 0
      },
      "text/plain": [
       "HBox(children=(HTML(value=''), FloatProgress(value=0.0, max=2006.0), HTML(value='')))"
      ]
     },
     "metadata": {},
     "output_type": "display_data"
    },
    {
     "name": "stdout",
     "output_type": "stream",
     "text": [
      "4951\n",
      "6695\n",
      "\n"
     ]
    }
   ],
   "source": [
    "# start['1101']['2022-10-31']\n",
    "today = datetime.today()\n",
    "for i in tqdm(start.columns):\n",
    "    result=[]\n",
    "    date=[]\n",
    "    startday_str = '01/4/21 8:00:00'\n",
    "    startday = datetime.strptime(startday_str, '%m/%d/%y %H:%M:%S')\n",
    "    startday_ymd = startday.strftime(\"%Y-%m-%d\")\n",
    "    \n",
    "    df0 = pd.DataFrame(end[i])\n",
    "    df0.columns=['收盤價']\n",
    "    df0['ma5']=round(df0[\"收盤價\"].rolling(window=5).mean(),2)\n",
    "    df0['ma10']=round(df0[\"收盤價\"].rolling(window=10).mean(),2)\n",
    "    df0['ma20']=round(df0[\"收盤價\"].rolling(window=20).mean(),2)\n",
    "    df0['ma60']=round(df0[\"收盤價\"].rolling(window=60).mean(),2)\n",
    "    \n",
    "    filepath = './json/data_'+i+'.json'\n",
    "    if os.path.exists(filepath):\n",
    "        with open(filepath, mode='r+') as f:\n",
    "            data = json.load(f)\n",
    "            lastupdate_str = data['date'][-1]+ ' 8:00:00'\n",
    "            lastupdate = datetime.strptime(lastupdate_str, '%Y-%m-%d %H:%M:%S')\n",
    "            lastupdate_ymd = data['date'][-1]\n",
    "\n",
    "            while lastupdate < today:\n",
    "                try:\n",
    "                    timestr = float(lastupdate.timestamp())*1000\n",
    "                    lastupdate_ymd = lastupdate.strftime(\"%Y-%m-%d\")\n",
    "\n",
    "                    if((i,lastupdate_ymd) in margin.index):\n",
    "                        mar=margin.loc[i].loc[lastupdate_ymd]['融券差額(張)']\n",
    "                    else:\n",
    "                        mar=0\n",
    "\n",
    "                    if((i,lastupdate_ymd) in three.index):\n",
    "                        thr=three.loc[i].loc[lastupdate_ymd]['投信買賣超(張)']\n",
    "                    else:\n",
    "                        thr=0\n",
    "\n",
    "                    data['stock_data'].append(\n",
    "                        [timestr,start[i][lastupdate_ymd],high[i][lastupdate_ymd],low[i][lastupdate_ymd],end[i][lastupdate_ymd],\n",
    "                         round(volumn[i][lastupdate_ymd]/1000,2),thr,mar,\n",
    "                        df0.loc[lastupdate_ymd]['ma5'],df0.loc[lastupdate_ymd]['ma10'],df0.loc[lastupdate_ymd]['ma20'],df0.loc[lastupdate_ymd]['ma60']\n",
    "                        ])\n",
    "                    data['date'].append(lastupdate_ymd)\n",
    "                        #date.append(lastupdate_ymd)\n",
    "                except:\n",
    "                    pass\n",
    "                lastupdate = lastupdate + timedelta(days=1)\n",
    "                #print(data['date'])\n",
    "\n",
    "            f.seek(0) \n",
    "            json.dump(data, f,indent=2)\n",
    "            f.truncate() \n",
    "    else:\n",
    "        print(i)\n",
    "        while startday < today:\n",
    "            try:\n",
    "                timestr = float(startday.timestamp())*1000\n",
    "                startday_ymd = startday.strftime(\"%Y-%m-%d\")\n",
    "\n",
    "                if((i,startday_ymd) in margin.index):\n",
    "                    mar=margin.loc[i].loc[startday_ymd]['融券差額(張)']\n",
    "                else:\n",
    "                    mar=0\n",
    "\n",
    "                if((i,startday_ymd) in three.index):\n",
    "                    thr=three.loc[i].loc[startday_ymd]['投信買賣超(張)']\n",
    "                else:\n",
    "                    thr=0\n",
    "                \n",
    "                result.append(\n",
    "                    [timestr,start[i][startday_ymd],high[i][startday_ymd],low[i][startday_ymd],end[i][startday_ymd],\n",
    "                     round(volumn[i][startday_ymd]/1000,2),thr,mar,\n",
    "                    df0.loc[startday_ymd]['ma5'],df0.loc[startday_ymd]['ma10'],df0.loc[startday_ymd]['ma20'],df0.loc[startday_ymd]['ma60']\n",
    "                    ])\n",
    "                date.append(startday_ymd)\n",
    "            except:\n",
    "                pass\n",
    "\n",
    "\n",
    "            startday = startday + timedelta(days=1)\n",
    "        dictionary = {\n",
    "                        \"stock_id\": i,\n",
    "                        \"date\": date,\n",
    "                        \"stock_data\": result,\n",
    "                    }\n",
    "\n",
    "\n",
    "        json_object = json.dumps(dictionary, indent=2)\n",
    "        with open('./json/data_'+str(i)+'.json', 'w') as json_file:\n",
    "            json_file.write(json_object)"
   ]
  },
  {
   "cell_type": "code",
   "execution_count": 47,
   "metadata": {},
   "outputs": [],
   "source": [
    "today = datetime.today()\n",
    "\n",
    "filepath = './json/data_2330.json'\n",
    "i='2330'\n",
    "df0 = pd.DataFrame(end[i])\n",
    "df0.columns=['收盤價']\n",
    "df0['ma5']=round(df0[\"收盤價\"].rolling(window=5).mean(),2)\n",
    "df0['ma10']=round(df0[\"收盤價\"].rolling(window=10).mean(),2)\n",
    "df0['ma20']=round(df0[\"收盤價\"].rolling(window=20).mean(),2)\n",
    "df0['ma60']=round(df0[\"收盤價\"].rolling(window=60).mean(),2)\n",
    "if os.path.exists(filepath):\n",
    "    with open(filepath, mode='r+') as f:\n",
    "        data = json.load(f)\n",
    "        lastupdate_str = data['date'][-1]+ ' 8:00:00'\n",
    "        lastupdate = datetime.strptime(lastupdate_str, '%Y-%m-%d %H:%M:%S')\n",
    "        lastupdate_ymd = data['date'][-1]\n",
    "\n",
    "        while lastupdate < today:\n",
    "            try:\n",
    "                timestr = float(lastupdate.timestamp())*1000\n",
    "                lastupdate_ymd = lastupdate.strftime(\"%Y-%m-%d\")\n",
    "\n",
    "                if((i,lastupdate_ymd) in margin.index):\n",
    "                    mar=margin.loc[i].loc[lastupdate_ymd]['融券差額(張)']\n",
    "                else:\n",
    "                    mar=0\n",
    "\n",
    "                if((i,lastupdate_ymd) in three.index):\n",
    "                    thr=three.loc[i].loc[lastupdate_ymd]['投信買賣超(張)']\n",
    "                else:\n",
    "                    thr=0\n",
    "                \n",
    "                data['stock_data'].append(\n",
    "                    [timestr,start[i][lastupdate_ymd],high[i][lastupdate_ymd],low[i][lastupdate_ymd],end[i][lastupdate_ymd],\n",
    "                     round(volumn[i][lastupdate_ymd]/1000,2),thr,mar,\n",
    "                    df0.loc[lastupdate_ymd]['ma5'],df0.loc[lastupdate_ymd]['ma10'],df0.loc[lastupdate_ymd]['ma20'],df0.loc[lastupdate_ymd]['ma60']\n",
    "                    ])\n",
    "                data['date'].append(lastupdate_ymd)\n",
    "                    #date.append(lastupdate_ymd)\n",
    "            except:\n",
    "                pass\n",
    "            lastupdate = lastupdate + timedelta(days=1)\n",
    "            #print(data['date'])\n",
    "\n",
    "        f.seek(0) \n",
    "        json.dump(data, f,indent=2)\n",
    "        f.truncate() "
   ]
  },
  {
   "cell_type": "code",
   "execution_count": 50,
   "metadata": {},
   "outputs": [
    {
     "data": {
      "application/vnd.jupyter.widget-view+json": {
       "model_id": "b408036fd75b4f75841f2253053c22db",
       "version_major": 2,
       "version_minor": 0
      },
      "text/plain": [
       "HBox(children=(HTML(value=''), FloatProgress(value=1.0, bar_style='info', layout=Layout(width='20px'), max=1.0…"
      ]
     },
     "metadata": {},
     "output_type": "display_data"
    },
    {
     "name": "stdout",
     "output_type": "stream",
     "text": [
      "\n"
     ]
    }
   ],
   "source": [
    "with os.scandir('./json/') as it:\n",
    "    for entry in tqdm(it):\n",
    "        if entry.name.endswith(\".json\") and entry.is_file():\n",
    "            with open(entry.path) as f:\n",
    "                data = json.load(f)\n",
    "                #print(data['stock_data'])\n",
    "                with open('./json_part/'+entry.name, 'w') as json_file:\n",
    "                    json_file.write(str(data['stock_data']))"
   ]
  },
  {
   "cell_type": "code",
   "execution_count": null,
   "metadata": {},
   "outputs": [],
   "source": []
  }
 ],
 "metadata": {
  "kernelspec": {
   "display_name": "Python 3",
   "language": "python",
   "name": "python3"
  },
  "language_info": {
   "codemirror_mode": {
    "name": "ipython",
    "version": 3
   },
   "file_extension": ".py",
   "mimetype": "text/x-python",
   "name": "python",
   "nbconvert_exporter": "python",
   "pygments_lexer": "ipython3",
   "version": "3.8.5"
  }
 },
 "nbformat": 4,
 "nbformat_minor": 4
}
